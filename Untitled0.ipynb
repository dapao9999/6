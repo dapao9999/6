{
  "nbformat": 4,
  "nbformat_minor": 0,
  "metadata": {
    "colab": {
      "name": "Untitled0.ipynb",
      "provenance": [],
      "collapsed_sections": [],
      "include_colab_link": true
    },
    "kernelspec": {
      "name": "python3",
      "display_name": "Python 3"
    },
    "accelerator": "GPU"
  },
  "cells": [
    {
      "cell_type": "markdown",
      "metadata": {
        "id": "view-in-github",
        "colab_type": "text"
      },
      "source": [
        "<a href=\"https://colab.research.google.com/github/dapao9999/7/blob/master/Untitled0.ipynb\" target=\"_parent\"><img src=\"https://colab.research.google.com/assets/colab-badge.svg\" alt=\"Open In Colab\"/></a>"
      ]
    },
    {
      "cell_type": "code",
      "metadata": {
        "id": "aSZQ6MVdByZc",
        "colab_type": "code",
        "colab": {
          "base_uri": "https://localhost:8080/",
          "height": 268
        },
        "outputId": "6aabec30-2597-4128-c10e-d63cfc68e8a1"
      },
      "source": [
        "gpuInfo = ! nvidia-smi\n",
        "gpuInfo = '\\n'.join(gpuInfo)\n",
        "if 'K80' in gpu:\n",
        "  raise Exception('gpu is K80')\n",
        "if 'P4' in gpu:\n",
        "  raise Exception('gpu is P4')\n",
        "!pip install colab_ssh --upgrade\n",
        "from colab_ssh import launch_ssh, init_git\n",
        "launch_ssh(\"fZnGF1VD5iYbHwjGhBg5_3661JG2foTSXxvnSp6jDn\", region='jp')\n",
        "init_git(\"https://github.com/dapao9999/colab.git\")"
      ],
      "execution_count": null,
      "outputs": [
        {
          "output_type": "stream",
          "text": [
            "Collecting colab_ssh\n",
            "  Downloading https://files.pythonhosted.org/packages/93/7a/106c27a69fda941aae09efa03aa44039328582d7d0b8ee630c71fcbf24f8/colab_ssh-0.2.59-py3-none-any.whl\n",
            "Installing collected packages: colab-ssh\n",
            "Successfully installed colab-ssh-0.2.59\n",
            "Successfully running 0.tcp.jp.ngrok.io:15904\n",
            "[Optional] You can also connect with VSCode SSH Remote extension using this configuration:\n",
            "\n",
            "\tHost google_colab_ssh\n",
            "\t\tHostName 0.tcp.jp.ngrok.io\n",
            "\t\tUser root\n",
            "\t\tPort 15904\n",
            "\t  \n",
            "Successfully cloned the repository\n"
          ],
          "name": "stdout"
        },
        {
          "output_type": "display_data",
          "data": {
            "text/html": [
              "[Optional] You can open the cloned folder using VSCode, by clicking \n",
              "<a href='vscode://vscode-remote/ssh-remote+root@0.tcp.jp.ngrok.io:15904/content/colab'>colab</a>\n",
              "            "
            ],
            "text/plain": [
              "<IPython.core.display.HTML object>"
            ]
          },
          "metadata": {
            "tags": []
          }
        }
      ]
    }
  ]
}